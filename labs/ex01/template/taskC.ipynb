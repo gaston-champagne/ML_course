{
 "cells": [
  {
   "cell_type": "code",
   "execution_count": 1,
   "metadata": {
    "execution": {
     "iopub.execute_input": "2022-10-20T20:24:25.034463Z",
     "iopub.status.busy": "2022-10-20T20:24:25.034120Z",
     "iopub.status.idle": "2022-10-20T20:24:26.420571Z",
     "shell.execute_reply": "2022-10-20T20:24:26.419813Z"
    }
   },
   "outputs": [],
   "source": [
    "%matplotlib inline\n",
    "import numpy as np\n",
    "import matplotlib.pyplot as plt\n",
    "\n",
    "%load_ext autoreload\n",
    "%autoreload 2\n",
    "\n",
    "# Load test module for sanity check\n",
    "from test_utils import test"
   ]
  },
  {
   "cell_type": "markdown",
   "metadata": {
    "id": "TYyZPqnPmhYC"
   },
   "source": [
    "Data Generation\n",
    "==="
   ]
  },
  {
   "cell_type": "code",
   "execution_count": 2,
   "metadata": {
    "execution": {
     "iopub.execute_input": "2022-10-20T20:24:26.423626Z",
     "iopub.status.busy": "2022-10-20T20:24:26.423437Z",
     "iopub.status.idle": "2022-10-20T20:24:26.440936Z",
     "shell.execute_reply": "2022-10-20T20:24:26.440230Z"
    }
   },
   "outputs": [],
   "source": [
    "from numpy.random import rand, randn"
   ]
  },
  {
   "cell_type": "code",
   "execution_count": 3,
   "metadata": {
    "execution": {
     "iopub.execute_input": "2022-10-20T20:24:26.444023Z",
     "iopub.status.busy": "2022-10-20T20:24:26.443804Z",
     "iopub.status.idle": "2022-10-20T20:24:26.461776Z",
     "shell.execute_reply": "2022-10-20T20:24:26.461091Z"
    }
   },
   "outputs": [],
   "source": [
    "n, d, k = 100, 2, 2"
   ]
  },
  {
   "cell_type": "code",
   "execution_count": 29,
   "metadata": {
    "execution": {
     "iopub.execute_input": "2022-10-20T20:24:26.464754Z",
     "iopub.status.busy": "2022-10-20T20:24:26.464495Z",
     "iopub.status.idle": "2022-10-20T20:24:26.484105Z",
     "shell.execute_reply": "2022-10-20T20:24:26.483496Z"
    }
   },
   "outputs": [
    {
     "name": "stdout",
     "output_type": "stream",
     "text": [
      "[array([0.69872366, 0.75176984]), array([0.25997411, 0.14504062])]\n",
      "[array([[0.01764816, 0.        ],\n",
      "       [0.        , 0.06360523]]), array([[0.01764816, 0.        ],\n",
      "       [0.        , 0.06360523]])]\n"
     ]
    }
   ],
   "source": [
    "np.random.seed(20)\n",
    "X = rand(n, d)\n",
    "\n",
    "# means = [rand(d)  for _ in range(k)]  # works for any k\n",
    "means = [rand(d) * 0.5 + 0.5, -rand(d) * 0.5 + 0.5]  # for better plotting when k = 2\n",
    "\n",
    "S = np.diag(rand(d))\n",
    "\n",
    "sigmas = [S] * k  # we'll use the same Sigma for all clusters for better visual results\n",
    "\n",
    "print(means)\n",
    "print(sigmas)"
   ]
  },
  {
   "cell_type": "markdown",
   "metadata": {
    "id": "VsIOpA8QmhYI"
   },
   "source": [
    "## Computing the probability density"
   ]
  },
  {
   "cell_type": "code",
   "execution_count": 42,
   "metadata": {},
   "outputs": [],
   "source": [
    "def compute_p(X, mean, sigma):\n",
    "    a = (2*np.pi)**(len(mean)/2)\n",
    "    b = np.linalg.det(sigma)**(0.5)\n",
    "    d = np.linalg.inv(sigma)\n",
    "\n",
    "    val = 0\n",
    "\n",
    "    for i in range(len(X)):\n",
    "        val += np.exp(-0.5*((X[i]-mean).T @ d @ (X[i]-mean)))\n",
    "    \n",
    "    return 1/(a*b)*val"
   ]
  },
  {
   "cell_type": "code",
   "execution_count": 38,
   "metadata": {},
   "outputs": [],
   "source": [
    "ps = [\n",
    "    compute_p(X, m, s) for m, s in zip(means, sigmas)\n",
    "]  # exercise: try to do this without looping"
   ]
  },
  {
   "cell_type": "code",
   "execution_count": 39,
   "metadata": {},
   "outputs": [
    {
     "name": "stdout",
     "output_type": "stream",
     "text": [
      "0\n"
     ]
    }
   ],
   "source": [
    "assignments = np.argmax(ps, axis=0)\n",
    "print(assignments)"
   ]
  },
  {
   "cell_type": "code",
   "execution_count": 40,
   "metadata": {},
   "outputs": [
    {
     "data": {
      "image/png": "[encoded data removed]",
      "text/plain": [
       "<Figure size 432x288 with 1 Axes>"
      ]
     },
     "metadata": {
      "needs_background": "light"
     },
     "output_type": "display_data"
    }
   ],
   "source": [
    "colors = np.array([\"red\", \"green\"])[assignments]\n",
    "plt.scatter(X[:, 0], X[:, 1], c=colors, s=100)\n",
    "plt.scatter(np.array(means)[:, 0], np.array(means)[:, 1], marker=\"*\", s=200)\n",
    "plt.show()"
   ]
  },
  {
   "cell_type": "markdown",
   "metadata": {},
   "source": [
    "## Computing the log-probability directly\n",
    "\n",
    "**Why log?** - Our goal is to compare probabilities to see to which of the two stars a point belongs.\n",
    "\n",
    "But the formula for the probability is a bit heavy, with multiplications and exponents.\n",
    "\n",
    "By applying a log transform, we get additions and multiplications, which is easer to handle, and does not impact the comparison - if `a > b`, `log(a) > log(b)`.\n",
    "\n",
    "(If it does not make sense - don't worry - you'll see this in the coming lectures)\n"
   ]
  },
  {
   "cell_type": "code",
   "execution_count": 43,
   "metadata": {
    "execution": {
     "iopub.execute_input": "2022-10-20T20:24:26.486741Z",
     "iopub.status.busy": "2022-10-20T20:24:26.486587Z",
     "iopub.status.idle": "2022-10-20T20:24:26.504445Z",
     "shell.execute_reply": "2022-10-20T20:24:26.503717Z"
    }
   },
   "outputs": [],
   "source": [
    "def compute_log_p(X, mean, sigma):\n",
    "    \"\"\"\n",
    "    Implement\n",
    "    \"\"\"\n",
    "    a = (2+np.pi)*(len(mean)/2)\n",
    "    b = np.linalg.det(sigma)*0.5\n",
    "    d = np.linalg.inv(sigma)\n",
    "\n",
    "    val = 0\n",
    "\n",
    "    for i in range(len(X)):\n",
    "        val += -0.5*((X[i]-mean).T @ d @ (X[i]-mean))\n",
    "    \n",
    "    return -(a+b)+val"
   ]
  },
  {
   "cell_type": "code",
   "execution_count": 44,
   "metadata": {
    "execution": {
     "iopub.execute_input": "2022-10-20T20:24:26.507393Z",
     "iopub.status.busy": "2022-10-20T20:24:26.507172Z",
     "iopub.status.idle": "2022-10-20T20:24:26.524997Z",
     "shell.execute_reply": "2022-10-20T20:24:26.524215Z"
    }
   },
   "outputs": [],
   "source": [
    "log_ps = [\n",
    "    compute_log_p(X, m, s) for m, s in zip(means, sigmas)\n",
    "]  # exercise: try to do this without looping"
   ]
  },
  {
   "cell_type": "code",
   "execution_count": 45,
   "metadata": {
    "execution": {
     "iopub.execute_input": "2022-10-20T20:24:26.528004Z",
     "iopub.status.busy": "2022-10-20T20:24:26.527804Z",
     "iopub.status.idle": "2022-10-20T20:24:26.545859Z",
     "shell.execute_reply": "2022-10-20T20:24:26.545266Z"
    }
   },
   "outputs": [
    {
     "name": "stdout",
     "output_type": "stream",
     "text": [
      "0\n"
     ]
    }
   ],
   "source": [
    "assignments = np.argmax(log_ps, axis=0)\n",
    "print(assignments)"
   ]
  },
  {
   "cell_type": "code",
   "execution_count": 46,
   "metadata": {
    "execution": {
     "iopub.execute_input": "2022-10-20T20:24:26.548579Z",
     "iopub.status.busy": "2022-10-20T20:24:26.548369Z",
     "iopub.status.idle": "2022-10-20T20:24:26.697987Z",
     "shell.execute_reply": "2022-10-20T20:24:26.697569Z"
    }
   },
   "outputs": [
    {
     "data": {
      "image/png": "[encoded data removed]",
      "text/plain": [
       "<Figure size 432x288 with 1 Axes>"
      ]
     },
     "metadata": {
      "needs_background": "light"
     },
     "output_type": "display_data"
    }
   ],
   "source": [
    "colors = np.array([\"red\", \"green\"])[assignments]\n",
    "plt.scatter(X[:, 0], X[:, 1], c=colors, s=100)\n",
    "plt.scatter(np.array(means)[:, 0], np.array(means)[:, 1], marker=\"*\", s=200)\n",
    "plt.show()"
   ]
  }
 ],
 "metadata": {
  "kernelspec": {
   "display_name": "Python 3",
   "language": "python",
   "name": "python3"
  },
  "language_info": {
   "codemirror_mode": {
    "name": "ipython",
    "version": 3
   },
   "file_extension": ".py",
   "mimetype": "text/x-python",
   "name": "python",
   "nbconvert_exporter": "python",
   "pygments_lexer": "ipython3",
   "version": "3.8.8"
  }
 },
 "nbformat": 4,
 "nbformat_minor": 1
}
